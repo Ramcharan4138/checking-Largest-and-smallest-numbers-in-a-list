{
 "cells": [
  {
   "cell_type": "code",
   "execution_count": 10,
   "id": "61b4fce4-b73b-4a39-a079-b80449186a2b",
   "metadata": {},
   "outputs": [
    {
     "name": "stdout",
     "output_type": "stream",
     "text": [
      "100\n"
     ]
    }
   ],
   "source": [
    "#Write a program that takes a list of numbers and returns the largest number in the list.\n",
    "list=[23,54,56,100,87,89,90]\n",
    "largest=max(list)\n",
    "print(largest)"
   ]
  },
  {
   "cell_type": "code",
   "execution_count": 12,
   "id": "38d6b8fd-4c00-4627-aa13-23c13dc3ff70",
   "metadata": {},
   "outputs": [
    {
     "name": "stdout",
     "output_type": "stream",
     "text": [
      "23\n"
     ]
    }
   ],
   "source": [
    "#Write a program that takes a list of numbers and returns the smallest number in the list.\n",
    "list=[23,54,56,100,87,89,90]\n",
    "smallest=min(list)\n",
    "print(smallest)"
   ]
  },
  {
   "cell_type": "code",
   "execution_count": null,
   "id": "a3ee6226-d817-4c32-9874-67bfd7544062",
   "metadata": {},
   "outputs": [],
   "source": []
  }
 ],
 "metadata": {
  "kernelspec": {
   "display_name": "Python [conda env:base] *",
   "language": "python",
   "name": "conda-base-py"
  },
  "language_info": {
   "codemirror_mode": {
    "name": "ipython",
    "version": 3
   },
   "file_extension": ".py",
   "mimetype": "text/x-python",
   "name": "python",
   "nbconvert_exporter": "python",
   "pygments_lexer": "ipython3",
   "version": "3.12.7"
  }
 },
 "nbformat": 4,
 "nbformat_minor": 5
}
